{
  "nbformat": 4,
  "nbformat_minor": 0,
  "metadata": {
    "colab": {
      "name": "02_end_to_end_machine_learning_project.ipynb",
      "version": "0.3.2",
      "provenance": [],
      "collapsed_sections": [
        "X8QYwtvzEMKK",
        "UsQ-UF9fU6QD",
        "OtNoANc3tZns",
        "UemjSrSqs8HB",
        "txRMmm9CDoeQ",
        "gB7wfwvHDG47",
        "H9y475AqHw9b",
        "ljMsdQXfdw0J"
      ],
      "toc_visible": true,
      "include_colab_link": true
    },
    "kernelspec": {
      "name": "python3",
      "display_name": "Python 3"
    },
    "accelerator": "GPU"
  },
  "cells": [
    {
      "cell_type": "markdown",
      "metadata": {
        "id": "view-in-github",
        "colab_type": "text"
      },
      "source": [
        "<a href=\"https://colab.research.google.com/github/mopheiok/hands_on_sk_tf/blob/master/02_end_to_end_machine_learning_project.ipynb\" target=\"_parent\"><img src=\"https://colab.research.google.com/assets/colab-badge.svg\" alt=\"Open In Colab\"/></a>"
      ]
    },
    {
      "metadata": {
        "id": "FGtfniyEYJYm",
        "colab_type": "text"
      },
      "cell_type": "markdown",
      "source": [
        "[Sklearn与TensorFlow机器学习实用指南](https://hand2st.apachecn.org/#/docs/2.%E4%B8%80%E4%B8%AA%E5%AE%8C%E6%95%B4%E7%9A%84%E6%9C%BA%E5%99%A8%E5%AD%A6%E4%B9%A0%E9%A1%B9%E7%9B%AE)在线阅读。该书对应的[Github仓库](https://github.com/ageron/handson-ml/blob/master/02_end_to_end_machine_learning_project.ipynb)"
      ]
    },
    {
      "metadata": {
        "id": "X8QYwtvzEMKK",
        "colab_type": "text"
      },
      "cell_type": "markdown",
      "source": [
        "## Setup"
      ]
    },
    {
      "metadata": {
        "id": "ePTljOyFUpJA",
        "colab_type": "code",
        "colab": {}
      },
      "cell_type": "code",
      "source": [
        "# To support both python 2 and python 3\n",
        "from __future__ import division, print_function, unicode_literals\n",
        "\n",
        "# Common imports\n",
        "import numpy as np\n",
        "import os\n",
        "\n",
        "# to make this notebook's output stable across runs\n",
        "np.random.seed(42)\n",
        "\n",
        "# To plot pretty figures\n",
        "%matplotlib inline\n",
        "import matplotlib as mpl\n",
        "import matplotlib.pyplot as plt\n",
        "mpl.rc('axes', labelsize=14)\n",
        "mpl.rc('xtick', labelsize=12)\n",
        "mpl.rc('ytick', labelsize=12)\n",
        "\n",
        "# Where to save the figures\n",
        "PROJECT_ROOT_DIR = \".\"\n",
        "CHAPTER_ID = \"end_to_end_project\"\n",
        "IMAGES_PATH = os.path.join(PROJECT_ROOT_DIR, \"images\", CHAPTER_ID)\n",
        "\n",
        "def save_fig(fig_id, tight_layout=True, fig_extension=\"png\", resolution=300):\n",
        "    path = os.path.join(IMAGES_PATH, fig_id + \".\" + fig_extension)\n",
        "    print(\"Saving figure\", fig_id)\n",
        "    if tight_layout:\n",
        "        plt.tight_layout()\n",
        "    plt.savefig(path, format=fig_extension, dpi=resolution)\n",
        "\n",
        "# Ignore useless warnings (see SciPy issue #5998)\n",
        "import warnings\n",
        "warnings.filterwarnings(action=\"ignore\", message=\"^internal gelsd\")"
      ],
      "execution_count": 0,
      "outputs": []
    },
    {
      "metadata": {
        "id": "UsQ-UF9fU6QD",
        "colab_type": "text"
      },
      "cell_type": "markdown",
      "source": [
        "## 获取数据"
      ]
    },
    {
      "metadata": {
        "id": "0V-AXB2kzQYt",
        "colab_type": "code",
        "colab": {}
      },
      "cell_type": "code",
      "source": [
        "import os\n",
        "import tarfile\n",
        "from six.moves import urllib\n",
        "\n",
        "DOWNLOAD_ROOT = \"https://raw.githubusercontent.com/ageron/handson-ml/master/\"\n",
        "HOUSING_PATH = os.path.join(\"datasets\", \"housing\")\n",
        "HOUSING_URL = DOWNLOAD_ROOT + \"datasets/housing/housing.tgz\"\n",
        "\n",
        "def fetch_housing_data(housing_url=HOUSING_URL, housing_path=HOUSING_PATH):\n",
        "    if not os.path.isdir(housing_path):\n",
        "        os.makedirs(housing_path)\n",
        "    tgz_path = os.path.join(housing_path, \"housing.tgz\")\n",
        "    urllib.request.urlretrieve(housing_url, tgz_path)\n",
        "    housing_tgz = tarfile.open(tgz_path)\n",
        "    housing_tgz.extractall(path=housing_path)\n",
        "    housing_tgz.close()\n",
        "    \n",
        "\n",
        "MAP_PATH = os.path.join(\"images\", CHAPTER_ID)\n",
        "MAP_URL = DOWNLOAD_ROOT + \"images/end_to_end_project/california.png\"\n",
        "\n",
        "def fetch_california_map(map_url=MAP_URL, map_path=MAP_PATH):\n",
        "  if not os.path.isdir(map_path):\n",
        "    os.makedirs(map_path)\n",
        "  map_path_local = os.path.join(map_path, \"california.png\")\n",
        "  urllib.request.urlretrieve(map_url, map_path_local)"
      ],
      "execution_count": 0,
      "outputs": []
    },
    {
      "metadata": {
        "id": "X0DFO1FozZ-I",
        "colab_type": "code",
        "colab": {}
      },
      "cell_type": "code",
      "source": [
        "fetch_housing_data()\n",
        "fetch_california_map()"
      ],
      "execution_count": 0,
      "outputs": []
    },
    {
      "metadata": {
        "id": "i7bsQXnXKQwn",
        "colab_type": "code",
        "colab": {}
      },
      "cell_type": "code",
      "source": [
        "import pandas as pd\n",
        "\n",
        "def load_housing_data(housing_path=HOUSING_PATH):\n",
        "    csv_path = os.path.join(housing_path, \"housing.csv\")\n",
        "    return pd.read_csv(csv_path)"
      ],
      "execution_count": 0,
      "outputs": []
    },
    {
      "metadata": {
        "id": "OtNoANc3tZns",
        "colab_type": "text"
      },
      "cell_type": "markdown",
      "source": [
        "## 快速查看数据结构"
      ]
    },
    {
      "metadata": {
        "id": "UdP_7981KYG4",
        "colab_type": "code",
        "colab": {}
      },
      "cell_type": "code",
      "source": [
        "housing = load_housing_data()\n",
        "housing.head()"
      ],
      "execution_count": 0,
      "outputs": []
    },
    {
      "metadata": {
        "id": "L3KPjubLYnpB",
        "colab_type": "code",
        "colab": {}
      },
      "cell_type": "code",
      "source": [
        "housing.info()"
      ],
      "execution_count": 0,
      "outputs": []
    },
    {
      "metadata": {
        "id": "V5_Q5gUtYumc",
        "colab_type": "code",
        "colab": {}
      },
      "cell_type": "code",
      "source": [
        "housing[\"ocean_proximity\"].value_counts()"
      ],
      "execution_count": 0,
      "outputs": []
    },
    {
      "metadata": {
        "id": "G_XbyZO_Y-_R",
        "colab_type": "code",
        "colab": {}
      },
      "cell_type": "code",
      "source": [
        "housing.describe()"
      ],
      "execution_count": 0,
      "outputs": []
    },
    {
      "metadata": {
        "id": "e613N-m2ZF87",
        "colab_type": "code",
        "colab": {}
      },
      "cell_type": "code",
      "source": [
        "%matplotlib inline\n",
        "import matplotlib.pyplot as plt\n",
        "housing.hist(bins=50, figsize=(20,15))\n",
        "save_fig(\"attribute_histogram_plots\")\n",
        "plt.show()"
      ],
      "execution_count": 0,
      "outputs": []
    },
    {
      "metadata": {
        "id": "UemjSrSqs8HB",
        "colab_type": "text"
      },
      "cell_type": "markdown",
      "source": [
        "## 创建训练集和测试集"
      ]
    },
    {
      "metadata": {
        "id": "txRMmm9CDoeQ",
        "colab_type": "text"
      },
      "cell_type": "markdown",
      "source": [
        "### 自定义分割方法"
      ]
    },
    {
      "metadata": {
        "id": "2qFKmiEWZtx-",
        "colab_type": "code",
        "colab": {}
      },
      "cell_type": "code",
      "source": [
        "# to make this notebook's output identical at every run\n",
        "np.random.seed(42)"
      ],
      "execution_count": 0,
      "outputs": []
    },
    {
      "metadata": {
        "id": "vCExRPiNoweG",
        "colab_type": "text"
      },
      "cell_type": "markdown",
      "source": [
        "在分割数据集的过程中，再次执行分割过程就会产生不同的测试集。多次运行之后，算法就会得到整个数据集，这是需要避免的。\n",
        "\n",
        "其方法有二：\n",
        "\n",
        " - 将第一次得到的测试集保存起来\n",
        " - 设置随机数生成器的种子， 以产生总是相同的洗牌指数"
      ]
    },
    {
      "metadata": {
        "id": "76f6jZOrdk9q",
        "colab_type": "code",
        "colab": {}
      },
      "cell_type": "code",
      "source": [
        "import numpy as np\n",
        "\n",
        "# For illustration only. Sklearn has train_test_split()\n",
        "def split_train_test(data, test_ratio):\n",
        "    shuffled_indices = np.random.permutation(len(data)) # 对数据索引进行洗牌，即打乱数据原有顺序\n",
        "    test_set_size = int(len(data) * test_ratio)\n",
        "    test_indices = shuffled_indices[:test_set_size]\n",
        "    train_indices = shuffled_indices[test_set_size:]\n",
        "    return data.iloc[train_indices], data.iloc[test_indices]"
      ],
      "execution_count": 0,
      "outputs": []
    },
    {
      "metadata": {
        "id": "AXbHTwtredKv",
        "colab_type": "code",
        "colab": {}
      },
      "cell_type": "code",
      "source": [
        "data_test =np.arange(5)\n",
        "data_test"
      ],
      "execution_count": 0,
      "outputs": []
    },
    {
      "metadata": {
        "id": "SLeajoZeeq-r",
        "colab_type": "code",
        "colab": {}
      },
      "cell_type": "code",
      "source": [
        "# Permutation 排列 Combination 组合\n",
        "np.random.permutation(len(data_test)) # 产生随机排列"
      ],
      "execution_count": 0,
      "outputs": []
    },
    {
      "metadata": {
        "id": "QGwEB4iIgFpr",
        "colab_type": "code",
        "colab": {}
      },
      "cell_type": "code",
      "source": [
        "train_set, test_set = split_train_test(housing, 0.2) # 对数据集进行2:8分裂\n",
        "print(len(train_set), \"train +\", len(test_set), \"test\")"
      ],
      "execution_count": 0,
      "outputs": []
    },
    {
      "metadata": {
        "id": "q-hw8iPPs3jD",
        "colab_type": "text"
      },
      "cell_type": "markdown",
      "source": [
        "但是如果数据集更新（*即在原数据集基础上新增加数据*），这两个方法都会失效。一个通常的解决办法是使用每个实例的ID来判定这个实例是否应该放入测试集（假设每个实例都有唯一并且不变的ID）。\n",
        "\n",
        "例如，你可以计算出每个实例ID的哈希值，只保留其最后一个字节，如果该值小于等于 51（约为 256 的 20%），就将其放入测试集。这样可以保证在多次运行中，测试集保持不变，即使更新了数据集。新的测试集会包含新实例中的 20%，但不会有之前位于训练集的实例（*因为根据原数据集的 ID中已经将 $< 51$ 的数据归入测试集，新更新的数据中若有小于51的，则也归入测试集，所以原数据集的分割没有变化，新加入的数据进行了再分割，将原测试集增大*）。下面是一种可用的方法："
      ]
    },
    {
      "metadata": {
        "id": "TTjfjHfhVs8P",
        "colab_type": "text"
      },
      "cell_type": "markdown",
      "source": [
        "[循环冗余校验](https://colobu.com/2014/10/22/CRC-introduction/)（英语：Cyclic redundancy check，通称“CRC”）是一种根据数据产生简短固定位数校验码的一种散列函數，主要用来检测或校验数据传输或者保存后可能出现的错误。一般来说，循环冗余校验的值都是32位的整数。\n",
        "\n",
        "[散列函数](https://zh.wikipedia.org/wiki/%E6%95%A3%E5%88%97%E5%87%BD%E6%95%B8)（英语：Hash function）又称散列算法、哈希函数，是一种从任何一种数据中创建小的数字“指纹”的方法。"
      ]
    },
    {
      "metadata": {
        "id": "h62mfkp5vCuJ",
        "colab_type": "code",
        "colab": {}
      },
      "cell_type": "code",
      "source": [
        "from zlib import crc32\n",
        "\n",
        "def test_set_check(identifier, test_ratio):\n",
        "    return crc32(np.int64(identifier)) & 0xffffffff < test_ratio * 2**32\n",
        "\n",
        "def split_train_test_by_id(data, test_ratio, id_column):\n",
        "    ids = data[id_column]\n",
        "    in_test_set = ids.apply(lambda id_: test_set_check(id_, test_ratio))\n",
        "    return data.loc[~in_test_set], data.loc[in_test_set]"
      ],
      "execution_count": 0,
      "outputs": []
    },
    {
      "metadata": {
        "id": "M_OtPqqW-GSY",
        "colab_type": "code",
        "colab": {}
      },
      "cell_type": "code",
      "source": [
        "housing_with_id = housing.reset_index()   # adds an `index` column\n",
        "train_set, test_set = split_train_test_by_id(housing_with_id, 0.2, \"index\")\n",
        "print(len(train_set), \"train +\", len(test_set), \"test\")"
      ],
      "execution_count": 0,
      "outputs": []
    },
    {
      "metadata": {
        "id": "RD6Ww-qIBsOJ",
        "colab_type": "text"
      },
      "cell_type": "markdown",
      "source": [
        "[LBS知识之经纬度精度](https://www.biaodianfu.com/lbs-precision.html)\n",
        "只需要精确到小数点后7位，精度就是1CM，因此，数据库保存经纬度采用 decimal(10,7) 即可\n",
        "\n",
        "问题1：为什么不采用float?\n",
        "\n",
        "答：float,double容易产生误差，对精确度要求比较高时，建议使用decimal来存，decimal在mysql内存是以字符串存储的\n",
        "\n",
        "问题2：为什么不用字符串？\n",
        "\n",
        "答：字符串不方便数据库计算"
      ]
    },
    {
      "metadata": {
        "id": "cNfkjFfC-KCr",
        "colab_type": "code",
        "colab": {}
      },
      "cell_type": "code",
      "source": [
        "housing_with_id[\"id\"] = housing[\"longitude\"] * 1000 + housing[\"latitude\"] #使用经纬度构造ID\n",
        "train_set, test_set = split_train_test_by_id(housing_with_id, 0.2, \"id\")\n",
        "print(len(train_set), \"train +\", len(test_set), \"test\")"
      ],
      "execution_count": 0,
      "outputs": []
    },
    {
      "metadata": {
        "id": "gB7wfwvHDG47",
        "colab_type": "text"
      },
      "cell_type": "markdown",
      "source": [
        "### 使用Scikit-Learn 提供的函数分割数据集"
      ]
    },
    {
      "metadata": {
        "id": "9I0cJ5zC_ljN",
        "colab_type": "code",
        "colab": {}
      },
      "cell_type": "code",
      "source": [
        "from sklearn.model_selection import train_test_split\n",
        "\n",
        "train_set, test_set = train_test_split(housing, test_size=0.2, random_state=42)"
      ],
      "execution_count": 0,
      "outputs": []
    },
    {
      "metadata": {
        "id": "H9y475AqHw9b",
        "colab_type": "text"
      },
      "cell_type": "markdown",
      "source": [
        "### 分层采样\n",
        "\n",
        "无论自定义分割还是Scikit-Learn中内置的分割方法，采用的都是纯随机抽取方法。当数据集很大时（尤其是和属性数相比），这通常可行；但如果数据集不大，就会有采样偏差的风险。为了避免这种偏差，有时会采用“**分层采样**”（stratified sampling），比如，先将人群按性别分为两个子组，即分层，再从每个分层去取合适数量的实例，以保证测试集男女比例无偏差，此时对总人数有代表性。"
      ]
    },
    {
      "metadata": {
        "id": "Bz7afBXcKeRu",
        "colab_type": "text"
      },
      "cell_type": "markdown",
      "source": [
        "中位数是预测房价中位数非常重要的属性。想要保证测试集可以代表整体数据集中的多种收入分类，所以对中位数进行分层采样处理。"
      ]
    },
    {
      "metadata": {
        "id": "LMEbIsVlUIxr",
        "colab_type": "text"
      },
      "cell_type": "markdown",
      "source": [
        "#### 观察数据整体分布"
      ]
    },
    {
      "metadata": {
        "id": "084Cq-TdKMgJ",
        "colab_type": "code",
        "colab": {}
      },
      "cell_type": "code",
      "source": [
        "housing[\"median_income\"].hist()"
      ],
      "execution_count": 0,
      "outputs": []
    },
    {
      "metadata": {
        "id": "5lDxVLUqUS9m",
        "colab_type": "text"
      },
      "cell_type": "markdown",
      "source": [
        "#### 对数据划分子组"
      ]
    },
    {
      "metadata": {
        "id": "3VpDAXwHMjV9",
        "colab_type": "text"
      },
      "cell_type": "markdown",
      "source": [
        "数据集中的每个分层都要有足够的实例位于数据中，这点很重要。否则，对分层重要性的评估就会有偏差。所以，不能有过多的分层，且每个分层都要足够大。通过将收入中位数除以 1.5（以限制收入分类的数量），创建了一个收入类别属性，用ceil对值舍入（以产生离散的分类）"
      ]
    },
    {
      "metadata": {
        "id": "LcaTYnosNZWC",
        "colab_type": "code",
        "colab": {}
      },
      "cell_type": "code",
      "source": [
        "# Divide by 1.5 to limit the number of income categories\n",
        "housing[\"income_cat\"] = np.ceil(housing[\"median_income\"] / 1.5)\n",
        "# Label those above 5 as 5\n",
        "#返回一个同样shape的df，当满足条件为TRUE时，从本身返回结果，否则从返回其他df的结果\n",
        "housing[\"income_cat\"].where(housing[\"income_cat\"] < 5, other=5.0, inplace=True)"
      ],
      "execution_count": 0,
      "outputs": []
    },
    {
      "metadata": {
        "id": "Lm6oxQGnSEyk",
        "colab_type": "text"
      },
      "cell_type": "markdown",
      "source": [
        "使用pandas内置函数`cut()`同样实现上述功能，更简单易懂。bins表示分割区间，labels对每个区间的标签"
      ]
    },
    {
      "metadata": {
        "id": "iYrAUmgBRmWN",
        "colab_type": "code",
        "colab": {}
      },
      "cell_type": "code",
      "source": [
        "housing[\"income_cat\"] = pd.cut(housing[\"median_income\"],\n",
        "                               bins=[0., 1.5, 3.0, 4.5, 6., np.inf],\n",
        "                               labels=[1, 2, 3, 4, 5])"
      ],
      "execution_count": 0,
      "outputs": []
    },
    {
      "metadata": {
        "id": "ysIFCv2KQdJ0",
        "colab_type": "code",
        "colab": {}
      },
      "cell_type": "code",
      "source": [
        "housing[\"income_cat\"].value_counts()"
      ],
      "execution_count": 0,
      "outputs": []
    },
    {
      "metadata": {
        "id": "XpPMqsUiSqns",
        "colab_type": "code",
        "colab": {}
      },
      "cell_type": "code",
      "source": [
        "housing[\"income_cat\"].hist()"
      ],
      "execution_count": 0,
      "outputs": []
    },
    {
      "metadata": {
        "id": "8FIWT2jdUplB",
        "colab_type": "text"
      },
      "cell_type": "markdown",
      "source": [
        "#### 对各层采样\n",
        "\n",
        "使用 Scikit-Learn 的[StratifiedShuffleSplit](https://blog.csdn.net/u012193416/article/details/79313601)类进行分层采样"
      ]
    },
    {
      "metadata": {
        "id": "qrWfTOY0UugU",
        "colab_type": "code",
        "colab": {}
      },
      "cell_type": "code",
      "source": [
        "from sklearn.model_selection import StratifiedShuffleSplit\n",
        "\n",
        "split = StratifiedShuffleSplit(n_splits=1, test_size=0.2, random_state=42)\n",
        "for train_index, test_index in split.split(housing, housing[\"income_cat\"]):\n",
        "    strat_train_set = housing.loc[train_index]\n",
        "    strat_test_set = housing.loc[test_index]"
      ],
      "execution_count": 0,
      "outputs": []
    },
    {
      "metadata": {
        "id": "2ijrxIgRbJC0",
        "colab_type": "code",
        "colab": {}
      },
      "cell_type": "code",
      "source": [
        "strat_test_set[\"income_cat\"].value_counts() / len(strat_test_set) # 测试集中各个类别所占比例"
      ],
      "execution_count": 0,
      "outputs": []
    },
    {
      "metadata": {
        "id": "fm1VTMmhaldH",
        "colab_type": "code",
        "colab": {}
      },
      "cell_type": "code",
      "source": [
        "housing[\"income_cat\"].value_counts() / len(housing) # 完整数据集中各类别比例"
      ],
      "execution_count": 0,
      "outputs": []
    },
    {
      "metadata": {
        "id": "ljMsdQXfdw0J",
        "colab_type": "text"
      },
      "cell_type": "markdown",
      "source": [
        "### 对比总数据集、分层采样的测试集、纯随机采样测试集的收入分类比例"
      ]
    },
    {
      "metadata": {
        "id": "24bp5OKFcHU-",
        "colab_type": "code",
        "colab": {}
      },
      "cell_type": "code",
      "source": [
        "def income_cat_proportions(data):\n",
        "    return data[\"income_cat\"].value_counts() / len(data)\n",
        "\n",
        "train_set, test_set = train_test_split(housing, test_size=0.2, random_state=42)\n",
        "\n",
        "compare_props = pd.DataFrame({\n",
        "    \"Overall\": income_cat_proportions(housing),\n",
        "    \"Stratified\": income_cat_proportions(strat_test_set),\n",
        "    \"Random\": income_cat_proportions(test_set),\n",
        "}).sort_index()\n",
        "\n",
        "# 误差绝对值越大，偏差越严重\n",
        "compare_props[\"Rand. %error\"] = 100 * compare_props[\"Random\"] / compare_props[\"Overall\"] - 100\n",
        "compare_props[\"Strat. %error\"] = 100 * compare_props[\"Stratified\"] / compare_props[\"Overall\"] - 100"
      ],
      "execution_count": 0,
      "outputs": []
    },
    {
      "metadata": {
        "id": "C65hnTtmcPKS",
        "colab_type": "code",
        "colab": {}
      },
      "cell_type": "code",
      "source": [
        "compare_props"
      ],
      "execution_count": 0,
      "outputs": []
    },
    {
      "metadata": {
        "id": "4_OS0P-Ceqi7",
        "colab_type": "code",
        "colab": {}
      },
      "cell_type": "code",
      "source": [
        "# 删除income_cat属性，使数据回到初始状态\n",
        "for set_ in (strat_train_set, strat_test_set):\n",
        "    set_.drop(\"income_cat\", axis=1, inplace=True)"
      ],
      "execution_count": 0,
      "outputs": []
    },
    {
      "metadata": {
        "id": "IbmxLSFaeyD_",
        "colab_type": "text"
      },
      "cell_type": "markdown",
      "source": [
        "## 数据探索和可视化、发现规律"
      ]
    },
    {
      "metadata": {
        "id": "6dt1aaFme4Yk",
        "colab_type": "code",
        "colab": {}
      },
      "cell_type": "code",
      "source": [
        "# 创建一个副本，以免损伤训练集\n",
        "housing = strat_train_set.copy()"
      ],
      "execution_count": 0,
      "outputs": []
    },
    {
      "metadata": {
        "id": "TYN4nP13mKH2",
        "colab_type": "text"
      },
      "cell_type": "markdown",
      "source": [
        "### 地理数据可视化"
      ]
    },
    {
      "metadata": {
        "id": "PfvahHsnmNaP",
        "colab_type": "code",
        "colab": {}
      },
      "cell_type": "code",
      "source": [
        "housing.plot(kind=\"scatter\", x=\"longitude\", y=\"latitude\")\n",
        "save_fig(\"bad_visualization_plot\")"
      ],
      "execution_count": 0,
      "outputs": []
    },
    {
      "metadata": {
        "id": "V00V3InDnnh3",
        "colab_type": "text"
      },
      "cell_type": "markdown",
      "source": [
        "将`alpha`设为 0.1，可以更容易看出数据点的密度"
      ]
    },
    {
      "metadata": {
        "id": "51mnIeuTnUPY",
        "colab_type": "code",
        "colab": {}
      },
      "cell_type": "code",
      "source": [
        "# 显示高密度区域的散点图\n",
        "housing.plot(kind=\"scatter\", x=\"longitude\", y=\"latitude\", alpha=0.1)\n",
        "save_fig(\"better_visualization_plot\")"
      ],
      "execution_count": 0,
      "outputs": []
    },
    {
      "metadata": {
        "id": "NojB32UhpxVD",
        "colab_type": "code",
        "colab": {}
      },
      "cell_type": "code",
      "source": [
        "housing.plot(kind=\"scatter\", x=\"longitude\", y=\"latitude\", alpha=0.4,\n",
        "    s=housing[\"population\"]/100, label=\"population\", figsize=(10,7),\n",
        "    c=\"median_house_value\", cmap=plt.get_cmap(\"jet\"), colorbar=True,\n",
        "    sharex=False)\n",
        "plt.legend()\n",
        "save_fig(\"housing_prices_scatterplot\")"
      ],
      "execution_count": 0,
      "outputs": []
    },
    {
      "metadata": {
        "id": "drwnxm9Wr3o4",
        "colab_type": "code",
        "colab": {}
      },
      "cell_type": "code",
      "source": [
        "import matplotlib.image as mpimg\n",
        "california_img=mpimg.imread(PROJECT_ROOT_DIR + '/images/end_to_end_project/california.png')\n",
        "ax = housing.plot(kind=\"scatter\", x=\"longitude\", y=\"latitude\", figsize=(10,7),\n",
        "                       s=housing['population']/100, label=\"Population\",\n",
        "                       c=\"median_house_value\", cmap=plt.get_cmap(\"jet\"),\n",
        "                       colorbar=False, alpha=0.4,\n",
        "                      )\n",
        "plt.imshow(california_img, extent=[-124.55, -113.80, 32.45, 42.05], alpha=0.5,\n",
        "           cmap=plt.get_cmap(\"jet\"))\n",
        "plt.ylabel(\"Latitude\", fontsize=14)\n",
        "plt.xlabel(\"Longitude\", fontsize=14)\n",
        "\n",
        "prices = housing[\"median_house_value\"]\n",
        "tick_values = np.linspace(prices.min(), prices.max(), 11)\n",
        "cbar = plt.colorbar()\n",
        "cbar.ax.set_yticklabels([\"$%dk\"%(round(v/1000)) for v in tick_values], fontsize=14)\n",
        "cbar.set_label('Median House Value', fontsize=16)\n",
        "\n",
        "plt.legend(fontsize=16)\n",
        "save_fig(\"california_housing_prices_plot\")\n",
        "plt.show()"
      ],
      "execution_count": 0,
      "outputs": []
    },
    {
      "metadata": {
        "id": "ZLgGOv1ariZl",
        "colab_type": "text"
      },
      "cell_type": "markdown",
      "source": [
        "### 查找关联"
      ]
    },
    {
      "metadata": {
        "id": "ILRi0_IwsqL4",
        "colab_type": "text"
      },
      "cell_type": "markdown",
      "source": [
        "使用`corr()`方法计算出每对属性间的标准相关系数（standard correlation coefficient，也称作[皮尔逊相关系数](https://en.wikipedia.org/wiki/Pearson_correlation_coefficient)）"
      ]
    },
    {
      "metadata": {
        "id": "zvghGWmRrnrq",
        "colab_type": "code",
        "colab": {}
      },
      "cell_type": "code",
      "source": [
        "corr_matrix = housing.corr()"
      ],
      "execution_count": 0,
      "outputs": []
    },
    {
      "metadata": {
        "id": "o6jAjX3_sz2Q",
        "colab_type": "code",
        "colab": {}
      },
      "cell_type": "code",
      "source": [
        "# 每个属性和房价中位数的关联度\n",
        "corr_matrix[\"median_house_value\"].sort_values(ascending=False)"
      ],
      "execution_count": 0,
      "outputs": []
    },
    {
      "metadata": {
        "id": "QHkR2b8fuPfq",
        "colab_type": "text"
      },
      "cell_type": "markdown",
      "source": [
        "相关系数在横轴和纵轴之间的不同图形\n",
        "\n",
        "![](https://upload.wikimedia.org/wikipedia/commons/d/d4/Correlation_examples2.svg)"
      ]
    },
    {
      "metadata": {
        "id": "JV-9xH_wuiYu",
        "colab_type": "code",
        "colab": {}
      },
      "cell_type": "code",
      "source": [
        "# from pandas.tools.plotting import scatter_matrix # For older versions of Pandas\n",
        "from pandas.plotting import scatter_matrix\n",
        "\n",
        "attributes = [\"median_house_value\", \"median_income\", \"total_rooms\",\n",
        "              \"housing_median_age\"]\n",
        "scatter_matrix(housing[attributes], figsize=(12, 8))\n",
        "save_fig(\"scatter_matrix_plot\")"
      ],
      "execution_count": 0,
      "outputs": []
    },
    {
      "metadata": {
        "id": "PbwzqB_7v-C-",
        "colab_type": "text"
      },
      "cell_type": "markdown",
      "source": [
        "从散点图矩阵中观察到最有希望用来预测房价中位数的属性是收入中位数，因此将这张图放大"
      ]
    },
    {
      "metadata": {
        "id": "arbIBcQ1vaka",
        "colab_type": "code",
        "colab": {}
      },
      "cell_type": "code",
      "source": [
        "housing.plot(kind=\"scatter\", x=\"median_income\", y=\"median_house_value\",\n",
        "             alpha=0.1)\n",
        "plt.axis([0, 16, 0, 550000])\n",
        "save_fig(\"income_vs_house_value_scatterplot\")"
      ],
      "execution_count": 0,
      "outputs": []
    },
    {
      "metadata": {
        "id": "THAoHI3DxbWH",
        "colab_type": "text"
      },
      "cell_type": "markdown",
      "source": [
        "这张图说明了几点。\n",
        " 1. 相关性非常高；可以清晰地看到向上的趋势，并且数据点不是非常分散\n",
        " 2. 之前看到的最高价，清晰地呈现为一条位于 500000 美元的水平线。这张图也呈现了一些不是那么明显的直线：一条位于 450000 美元的直线，一条位于 350000 美元的直线，一条在 280000 美元的线，和一些更靠下的线。希望去除对应的街区，以防止算法重复这些巧合。"
      ]
    },
    {
      "metadata": {
        "id": "0RIaE76wxsFv",
        "colab_type": "text"
      },
      "cell_type": "markdown",
      "source": [
        "### 属性组合实验"
      ]
    },
    {
      "metadata": {
        "id": "iYNDnYZCxxNK",
        "colab_type": "code",
        "colab": {}
      },
      "cell_type": "code",
      "source": [
        "housing[\"rooms_per_household\"] = housing[\"total_rooms\"]/housing[\"households\"]\n",
        "housing[\"bedrooms_per_room\"] = housing[\"total_bedrooms\"]/housing[\"total_rooms\"]\n",
        "housing[\"population_per_household\"]=housing[\"population\"]/housing[\"households\"]"
      ],
      "execution_count": 0,
      "outputs": []
    },
    {
      "metadata": {
        "id": "RJZBNypvBZUB",
        "colab_type": "code",
        "colab": {}
      },
      "cell_type": "code",
      "source": [
        "corr_matrix = housing.corr()\n",
        "corr_matrix[\"median_house_value\"].sort_values(ascending=False)"
      ],
      "execution_count": 0,
      "outputs": []
    },
    {
      "metadata": {
        "id": "yPuCkgEwBp4s",
        "colab_type": "code",
        "colab": {}
      },
      "cell_type": "code",
      "source": [
        "housing.plot(kind=\"scatter\", x=\"rooms_per_household\", y=\"median_house_value\",\n",
        "             alpha=0.2)\n",
        "plt.axis([0, 5, 0, 520000])\n",
        "plt.show()"
      ],
      "execution_count": 0,
      "outputs": []
    },
    {
      "metadata": {
        "id": "Z2gTpYm9B1Oy",
        "colab_type": "code",
        "colab": {}
      },
      "cell_type": "code",
      "source": [
        "housing.describe()"
      ],
      "execution_count": 0,
      "outputs": []
    },
    {
      "metadata": {
        "id": "BAqg0w6sB5V2",
        "colab_type": "text"
      },
      "cell_type": "markdown",
      "source": [
        "## 为机器学习算法准备数据"
      ]
    },
    {
      "metadata": {
        "id": "UXGGSqT3Cf9I",
        "colab_type": "text"
      },
      "cell_type": "markdown",
      "source": [
        "能慢慢建立一个转换函数库，可以在未来的项目中复用"
      ]
    },
    {
      "metadata": {
        "id": "OA17eZz7B9vR",
        "colab_type": "code",
        "colab": {}
      },
      "cell_type": "code",
      "source": [
        "housing = strat_train_set.drop(\"median_house_value\", axis=1)\n",
        "housing_labels = strat_train_set[\"median_house_value\"].copy()"
      ],
      "execution_count": 0,
      "outputs": []
    },
    {
      "metadata": {
        "id": "XFt59fHYDKVr",
        "colab_type": "text"
      },
      "cell_type": "markdown",
      "source": [
        "### 数据清洗"
      ]
    },
    {
      "metadata": {
        "id": "IDawKEoGHfs2",
        "colab_type": "text"
      },
      "cell_type": "markdown",
      "source": [
        "pandas 索引为真是才被选中\n",
        "\n",
        "pandas 中函数`any`在指定轴方向上有一个为真则返回真（axis=0表示列方向，axis=1表示行方向）"
      ]
    },
    {
      "metadata": {
        "id": "tcoMOBJtJDfh",
        "colab_type": "text"
      },
      "cell_type": "markdown",
      "source": [
        "#### 处理缺失值"
      ]
    },
    {
      "metadata": {
        "id": "jVRTGssQJLzD",
        "colab_type": "text"
      },
      "cell_type": "markdown",
      "source": [
        "大多机器学习算法不能处理缺失的特征，因此先创建一些函数来处理特征缺失的问题"
      ]
    },
    {
      "metadata": {
        "id": "FEV85QPlIfoC",
        "colab_type": "code",
        "colab": {}
      },
      "cell_type": "code",
      "source": [
        "# axis=0为默认值，返回哪一列中有空值\n",
        "housing.isnull().any()\n",
        "\n",
        "# axis=1返回哪一行中有空值\n",
        "housing.isnull().any(axis=1)"
      ],
      "execution_count": 0,
      "outputs": []
    },
    {
      "metadata": {
        "id": "s_Bo_ClVCqj1",
        "colab_type": "code",
        "colab": {}
      },
      "cell_type": "code",
      "source": [
        "sample_incomplete_rows = housing[housing.isnull().any(axis=1)].head()\n",
        "sample_incomplete_rows"
      ],
      "execution_count": 0,
      "outputs": []
    },
    {
      "metadata": {
        "id": "omI6RyRKLals",
        "colab_type": "code",
        "colab": {}
      },
      "cell_type": "code",
      "source": [
        "\n",
        "sample_incomplete_rows.dropna(subset=[\"total_bedrooms\"])    # 删除total_bedrooms中有缺失值的样本；删完后该数据集为空"
      ],
      "execution_count": 0,
      "outputs": []
    },
    {
      "metadata": {
        "id": "xV83DxXOMGcE",
        "colab_type": "code",
        "colab": {}
      },
      "cell_type": "code",
      "source": [
        "sample_incomplete_rows.drop(\"total_bedrooms\", axis=1)       # 删除属性total_bedrooms：在axis=1，即水平方向上删除total_bedrooms对应值"
      ],
      "execution_count": 0,
      "outputs": []
    },
    {
      "metadata": {
        "id": "6VVDvf7TN68U",
        "colab_type": "text"
      },
      "cell_type": "markdown",
      "source": [
        "用中位数填充训练集的缺失值，需要计算训练集的中位数，不要忘记保存该中位数。后面用测试集评估系统时，需要替换测试集中的缺失值，也可以用来实时替换新数据中的缺失值。"
      ]
    },
    {
      "metadata": {
        "id": "dOlOJ3RlNEKM",
        "colab_type": "code",
        "colab": {}
      },
      "cell_type": "code",
      "source": [
        "median = housing[\"total_bedrooms\"].median()\n",
        "sample_incomplete_rows[\"total_bedrooms\"].fillna(median, inplace=True) # 用中位数填充\n",
        "sample_incomplete_rows"
      ],
      "execution_count": 0,
      "outputs": []
    },
    {
      "metadata": {
        "id": "jMTeR-m0OzG-",
        "colab_type": "text"
      },
      "cell_type": "markdown",
      "source": [
        "Scikit-Learn 提供了一个方便的类来处理缺失值：`Imputer`"
      ]
    },
    {
      "metadata": {
        "id": "GDDWNO3TOZio",
        "colab_type": "code",
        "colab": {}
      },
      "cell_type": "code",
      "source": [
        "try:\n",
        "    from sklearn.impute import SimpleImputer # Scikit-Learn 0.20+\n",
        "except ImportError:\n",
        "    from sklearn.preprocessing import Imputer as SimpleImputer\n",
        "\n",
        "imputer = SimpleImputer(strategy=\"median\")"
      ],
      "execution_count": 0,
      "outputs": []
    },
    {
      "metadata": {
        "id": "a1c_e8DuO_pH",
        "colab_type": "code",
        "colab": {}
      },
      "cell_type": "code",
      "source": [
        "# 只有数值属性才能算出中位数，所以要删除文本属性\n",
        "housing_num = housing.drop('ocean_proximity', axis=1)\n",
        "# alternatively: housing_num = housing.select_dtypes(include=[np.number])"
      ],
      "execution_count": 0,
      "outputs": []
    },
    {
      "metadata": {
        "id": "4727Ky7BPOrK",
        "colab_type": "code",
        "colab": {}
      },
      "cell_type": "code",
      "source": [
        "imputer.fit(housing_num)"
      ],
      "execution_count": 0,
      "outputs": []
    },
    {
      "metadata": {
        "id": "QEeQktF0PhNY",
        "colab_type": "code",
        "colab": {}
      },
      "cell_type": "code",
      "source": [
        "imputer.statistics_"
      ],
      "execution_count": 0,
      "outputs": []
    },
    {
      "metadata": {
        "id": "GMfd2wHUPlAB",
        "colab_type": "code",
        "colab": {}
      },
      "cell_type": "code",
      "source": [
        "housing_num.median().values"
      ],
      "execution_count": 0,
      "outputs": []
    },
    {
      "metadata": {
        "id": "Cx7-RQImPweU",
        "colab_type": "text"
      },
      "cell_type": "markdown",
      "source": [
        "转换训练集"
      ]
    },
    {
      "metadata": {
        "id": "_fulBwDlPvXh",
        "colab_type": "code",
        "colab": {}
      },
      "cell_type": "code",
      "source": [
        "X = imputer.transform(housing_num) # X是numpy的数组类型"
      ],
      "execution_count": 0,
      "outputs": []
    },
    {
      "metadata": {
        "id": "hoi4LrgwQCVh",
        "colab_type": "code",
        "colab": {}
      },
      "cell_type": "code",
      "source": [
        "housing_tr = pd.DataFrame(X, columns=housing_num.columns,\n",
        "                          index = list(housing.index.values))"
      ],
      "execution_count": 0,
      "outputs": []
    },
    {
      "metadata": {
        "id": "cfRJFlEAQ15K",
        "colab_type": "code",
        "colab": {}
      },
      "cell_type": "code",
      "source": [
        "# 查看刚才选出的有缺失值的记录被中值填充的情况\n",
        "housing_tr.loc[sample_incomplete_rows.index.values]"
      ],
      "execution_count": 0,
      "outputs": []
    },
    {
      "metadata": {
        "id": "PNynpqj7RQde",
        "colab_type": "code",
        "colab": {}
      },
      "cell_type": "code",
      "source": [
        "# 填充策略\n",
        "imputer.strategy"
      ],
      "execution_count": 0,
      "outputs": []
    },
    {
      "metadata": {
        "id": "jujY-GLtRoJJ",
        "colab_type": "code",
        "colab": {}
      },
      "cell_type": "code",
      "source": [
        "housing_tr = pd.DataFrame(X, columns=housing_num.columns)\n",
        "housing_tr.head()"
      ],
      "execution_count": 0,
      "outputs": []
    },
    {
      "metadata": {
        "id": "xmI8XRtDRywc",
        "colab_type": "text"
      },
      "cell_type": "markdown",
      "source": [
        "#### 处理文本和类别属性"
      ]
    },
    {
      "metadata": {
        "id": "-OsrylHTR0pP",
        "colab_type": "code",
        "colab": {}
      },
      "cell_type": "code",
      "source": [
        "housing_cat = housing[['ocean_proximity']]\n",
        "housing_cat.head(10)"
      ],
      "execution_count": 0,
      "outputs": []
    }
  ]
}